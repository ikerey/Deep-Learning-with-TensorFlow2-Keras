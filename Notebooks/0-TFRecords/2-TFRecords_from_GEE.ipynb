{
 "cells": [
  {
   "cell_type": "markdown",
   "metadata": {},
   "source": [
    "# Export TFRecords from Earth Engine\n",
    "\n",
    "## Table of Contents\n",
    "- ### [Python libraries](#libraries)\n",
    "- ### [Earth Engine data acquisition](#data)\n",
    "    - #### [**Impervious**](#impervious)\n",
    "        - ####  [Visualize the data](#visualize)\n",
    "        - ####  [Select the areas](#areas)\n",
    "        - #### [Export TFRecords to Google Cloud Store](#tfrecords)\n",
    "    - #### [**Cropland**](#cropland)\n",
    "        - ####  [Visualize the data](#visualize2)\n",
    "        - ####  [Select the areas](#areas2)\n",
    "        - #### [Export TFRecords to Google Cloud Store](#tfrecords2)"
   ]
  },
  {
   "cell_type": "markdown",
   "metadata": {},
   "source": [
    "<a id='libraries'></a>\n",
    "## Python libraries\n",
    "We begin by importing a number of useful libraries"
   ]
  },
  {
   "cell_type": "code",
   "execution_count": 1,
   "metadata": {},
   "outputs": [
    {
     "name": "stdout",
     "output_type": "stream",
     "text": [
      "0.1.246\n"
     ]
    }
   ],
   "source": [
    "import ee\n",
    "import folium\n",
    "import numpy as np\n",
    "import pandas as pd\n",
    "import matplotlib.pyplot as plt\n",
    "print(ee.__version__)"
   ]
  },
  {
   "cell_type": "code",
   "execution_count": 2,
   "metadata": {},
   "outputs": [],
   "source": [
    "from preprocess.ee_data_preprocess import Preprocess"
   ]
  },
  {
   "cell_type": "markdown",
   "metadata": {},
   "source": [
    "Initialize the Earth Engine client."
   ]
  },
  {
   "cell_type": "code",
   "execution_count": 3,
   "metadata": {},
   "outputs": [],
   "source": [
    "ee.Initialize()"
   ]
  },
  {
   "cell_type": "markdown",
   "metadata": {},
   "source": [
    "<a id='data'></a>\n",
    "## Earth Engine data acquisition"
   ]
  },
  {
   "cell_type": "markdown",
   "metadata": {},
   "source": [
    "<a id='impervious'></a>\n",
    "### **Impervious**\n",
    "\n",
    "Input images:\n",
    "- RGB ([B4,B3,B2]) bands of the [**USGS Landsat 8 Surface Reflectance Tier 1**](https://developers.google.com/earth-engine/datasets/catalog/LANDSAT_LC08_C01_T1_SR) dataset.\n",
    "\n",
    "Output image:\n",
    "- Impervious band of the [**NLCD: USGS National Land Cover Database**](https://developers.google.com/earth-engine/datasets/catalog/USGS_NLCD)."
   ]
  },
  {
   "cell_type": "markdown",
   "metadata": {},
   "source": [
    "<a id='visualize'></a>\n",
    "###  Visualize the data"
   ]
  },
  {
   "cell_type": "code",
   "execution_count": 26,
   "metadata": {},
   "outputs": [],
   "source": [
    "data = Preprocess()"
   ]
  },
  {
   "cell_type": "code",
   "execution_count": 27,
   "metadata": {},
   "outputs": [
    {
     "data": {
      "text/html": [
       "<div style=\"width:100%;\"><div style=\"position:relative;width:100%;height:0;padding-bottom:60%;\"><iframe src=\"data:text/html;charset=utf-8;base64,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\" style=\"position:absolute;width:100%;height:100%;left:0;top:0;border:none !important;\" allowfullscreen webkitallowfullscreen mozallowfullscreen></iframe></div></div>"
      ],
      "text/plain": [
       "<folium.folium.Map at 0x11d2c7910>"
      ]
     },
     "execution_count": 27,
     "metadata": {},
     "output_type": "execute_result"
    }
   ],
   "source": [
    "data.composite(slugs=['Landsat-8-Surface-Reflectance', 'USGS-National-Land-Cover-Database'],\\\n",
    "              init_date = '2016-01-01', end_date = '2016-12-31', lat=37.9563, lon=-121.2929, zoom=9)"
   ]
  },
  {
   "cell_type": "markdown",
   "metadata": {},
   "source": [
    "<a id='areas'></a>\n",
    "###  Select the areas\n",
    "We select the areas from which we will export the training, validation and testing data."
   ]
  },
  {
   "cell_type": "code",
   "execution_count": 28,
   "metadata": {},
   "outputs": [],
   "source": [
    "train_atts = {\"type\": \"FeatureCollection\", \"features\": [{\"type\": \"Feature\", \"properties\": {}, \"geometry\": {\"type\": \"Polygon\", \"coordinates\": [[[-105.380859375,39.38101803294523],[-104.5074462890625,39.38101803294523],[-104.5074462890625,40.027614437486655],[-105.380859375,40.027614437486655],[-105.380859375,39.38101803294523]]]}}, {\"type\": \"Feature\", \"properties\": {}, \"geometry\": {\"type\": \"Polygon\", \"coordinates\": [[[-121.67907714843751,38.33088431959971],[-121.01989746093749,38.33088431959971],[-121.01989746093749,38.87179021382536],[-121.67907714843751,38.87179021382536],[-121.67907714843751,38.33088431959971]]]}}, {\"type\": \"Feature\", \"properties\": {}, \"geometry\": {\"type\": \"Polygon\", \"coordinates\": [[[-84.74853515625,33.44977658311846],[-83.97125244140625,33.44977658311846],[-83.97125244140625,34.10043369975709],[-84.74853515625,34.10043369975709],[-84.74853515625,33.44977658311846]]]}}]}\n",
    "test_atts = {\"type\":\"FeatureCollection\",\"features\":[{\"type\":\"Feature\",\"properties\":{},\"geometry\":{\"type\":\"Polygon\",\"coordinates\":[[[-95.0537109375,38.66835610151506],[-94.1583251953125,38.66835610151506],[-94.1583251953125,39.46164364205549],[-95.0537109375,39.46164364205549],[-95.0537109375,38.66835610151506]]]}}]}"
   ]
  },
  {
   "cell_type": "code",
   "execution_count": 29,
   "metadata": {},
   "outputs": [
    {
     "name": "stdout",
     "output_type": "stream",
     "text": [
      "Number of training polygons: 3\n",
      "Number of test polygons: 1\n"
     ]
    },
    {
     "data": {
      "text/html": [
       "<div style=\"width:100%;\"><div style=\"position:relative;width:100%;height:0;padding-bottom:60%;\"><iframe src=\"data:text/html;charset=utf-8;base64,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\" style=\"position:absolute;width:100%;height:100%;left:0;top:0;border:none !important;\" allowfullscreen webkitallowfullscreen mozallowfullscreen></iframe></div></div>"
      ],
      "text/plain": [
       "<folium.folium.Map at 0x11d259ad0>"
      ]
     },
     "execution_count": 29,
     "metadata": {},
     "output_type": "execute_result"
    }
   ],
   "source": [
    "data.select_areas(attributes=[train_atts, test_atts], zoom=5)"
   ]
  },
  {
   "cell_type": "markdown",
   "metadata": {},
   "source": [
    "<a id='tfrecords'></a>\n",
    "### Export TFRecords to Google Cloud Store"
   ]
  },
  {
   "cell_type": "code",
   "execution_count": 30,
   "metadata": {},
   "outputs": [
    {
     "name": "stdout",
     "output_type": "stream",
     "text": [
      "Exporting TFRecords to GCS:\n",
      "Temporal status:  {\"geo-ai/Impervious/Data/training_patches_g0\": \"READY\", \"geo-ai/Impervious/Data/training_patches_g1\": \"READY\", \"geo-ai/Impervious/Data/training_patches_g2\": \"READY\", \"geo-ai/Impervious/Data/test_patches_g0\": \"READY\"}\n",
      "Temporal status:  {\"geo-ai/Impervious/Data/training_patches_g0\": \"RUNNING\", \"geo-ai/Impervious/Data/training_patches_g1\": \"RUNNING\", \"geo-ai/Impervious/Data/training_patches_g2\": \"RUNNING\", \"geo-ai/Impervious/Data/test_patches_g0\": \"RUNNING\"}\n",
      "Temporal status:  {\"geo-ai/Impervious/Data/training_patches_g0\": \"RUNNING\", \"geo-ai/Impervious/Data/training_patches_g1\": \"RUNNING\", \"geo-ai/Impervious/Data/training_patches_g2\": \"RUNNING\", \"geo-ai/Impervious/Data/test_patches_g0\": \"RUNNING\"}\n",
      "Temporal status:  {\"geo-ai/Impervious/Data/training_patches_g0\": \"COMPLETED\", \"geo-ai/Impervious/Data/training_patches_g1\": \"COMPLETED\", \"geo-ai/Impervious/Data/training_patches_g2\": \"COMPLETED\", \"geo-ai/Impervious/Data/test_patches_g0\": \"COMPLETED\"}\n",
      "Final status: COMPLETED\n"
     ]
    }
   ],
   "source": [
    "data.export_TFRecords(sample_size = 2000, kernel_size = 128, scale=30, bucket='geo-ai', folder='Impervious/Data')"
   ]
  },
  {
   "cell_type": "markdown",
   "metadata": {},
   "source": [
    "<a id='cropland'></a>\n",
    "### **Cropland**\n",
    "\n",
    "Input images:\n",
    "- RGB ([B4,B3,B2]) bands of the [**Sentinel-2 MSI: MultiSpectral Instrument, Level-1C**](https://developers.google.com/earth-engine/datasets/catalog/COPERNICUS_S2) dataset.\n",
    "\n",
    "Output image:\n",
    "- Cropland band of the [**USDA NASS Cropland Data Layers**](https://developers.google.com/earth-engine/datasets/catalog/USDA_NASS_CDL)."
   ]
  },
  {
   "cell_type": "markdown",
   "metadata": {},
   "source": [
    "<a id='visualize2'></a>\n",
    "###  Visualize the data"
   ]
  },
  {
   "cell_type": "code",
   "execution_count": 4,
   "metadata": {},
   "outputs": [],
   "source": [
    "data = Preprocess()"
   ]
  },
  {
   "cell_type": "code",
   "execution_count": 5,
   "metadata": {},
   "outputs": [
    {
     "data": {
      "text/html": [
       "<div style=\"width:100%;\"><div style=\"position:relative;width:100%;height:0;padding-bottom:60%;\"><iframe src=\"data:text/html;charset=utf-8;base64,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\" style=\"position:absolute;width:100%;height:100%;left:0;top:0;border:none !important;\" allowfullscreen webkitallowfullscreen mozallowfullscreen></iframe></div></div>"
      ],
      "text/plain": [
       "<folium.folium.Map at 0x11d1d22d0>"
      ]
     },
     "execution_count": 5,
     "metadata": {},
     "output_type": "execute_result"
    }
   ],
   "source": [
    "data.composite(slugs=['Sentinel-2-Top-of-Atmosphere-Reflectance', 'USDA-NASS-Cropland-Data-Layers'],\\\n",
    "              init_date = '2018-01-01', end_date = '2018-12-31', lat=37.9563, lon=-121.2929, zoom=9)"
   ]
  },
  {
   "cell_type": "markdown",
   "metadata": {},
   "source": [
    "<a id='areas2'></a>\n",
    "###  Select the areas\n",
    "We select the areas from which we will export the training, validation and testing data."
   ]
  },
  {
   "cell_type": "code",
   "execution_count": 23,
   "metadata": {},
   "outputs": [],
   "source": [
    "train_atts = {\"type\": \"FeatureCollection\", \"features\": [{\"type\": \"Feature\", \"properties\": {}, \"geometry\": {\"type\": \"Polygon\", \"coordinates\": [[[-122.17346191406249,37.84015683604136],[-120.684814453125,37.84015683604136],[-120.684814453125,38.91668153637508],[-122.17346191406249,38.91668153637508],[-122.17346191406249,37.84015683604136]]]}}, {\"type\": \"Feature\", \"properties\": {}, \"geometry\": {\"type\": \"Polygon\", \"coordinates\": [[[-94.801025390625,44.38669150215206],[-92.74658203125,44.38669150215206],[-92.74658203125,45.506346901083425],[-94.801025390625,45.506346901083425],[-94.801025390625,44.38669150215206]]]}}, {\"type\": \"Feature\", \"properties\": {}, \"geometry\": {\"type\": \"Polygon\", \"coordinates\": [[[-112.664794921875,40.41767833585549],[-111.33544921874999,40.41767833585549],[-111.33544921874999,41.668808555620586],[-112.664794921875,41.668808555620586],[-112.664794921875,40.41767833585549]]]}}]}\n",
    "test_atts = {\"type\":\"FeatureCollection\",\"features\":[{\"type\":\"Feature\",\"properties\":{},\"geometry\":{\"type\":\"Polygon\",\"coordinates\":[[[-90.56304931640625,34.712266941280404],[-89.5330810546875,34.712266941280404],[-89.5330810546875,35.380092992092145],[-90.56304931640625,35.380092992092145],[-90.56304931640625,34.712266941280404]]]}}]}"
   ]
  },
  {
   "cell_type": "code",
   "execution_count": 24,
   "metadata": {},
   "outputs": [
    {
     "name": "stdout",
     "output_type": "stream",
     "text": [
      "Number of training polygons: 3\n",
      "Number of test polygons: 1\n"
     ]
    },
    {
     "data": {
      "text/html": [
       "<div style=\"width:100%;\"><div style=\"position:relative;width:100%;height:0;padding-bottom:60%;\"><iframe src=\"data:text/html;charset=utf-8;base64,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\" style=\"position:absolute;width:100%;height:100%;left:0;top:0;border:none !important;\" allowfullscreen webkitallowfullscreen mozallowfullscreen></iframe></div></div>"
      ],
      "text/plain": [
       "<folium.folium.Map at 0x11d25f150>"
      ]
     },
     "execution_count": 24,
     "metadata": {},
     "output_type": "execute_result"
    }
   ],
   "source": [
    "data.select_areas(attributes=[train_atts, test_atts], zoom=5)"
   ]
  },
  {
   "cell_type": "markdown",
   "metadata": {},
   "source": [
    "<a id='tfrecords'></a>\n",
    "### Export TFRecords to Google Cloud Store"
   ]
  },
  {
   "cell_type": "code",
   "execution_count": 25,
   "metadata": {},
   "outputs": [
    {
     "name": "stdout",
     "output_type": "stream",
     "text": [
      "Exporting TFRecords to GCS:\n",
      "Temporal status:  {\"geo-ai/Landcover/Data/training_patches_g0\": \"READY\", \"geo-ai/Landcover/Data/training_patches_g1\": \"READY\", \"geo-ai/Landcover/Data/training_patches_g2\": \"READY\", \"geo-ai/Landcover/Data/test_patches_g0\": \"RUNNING\"}\n",
      "Temporal status:  {\"geo-ai/Landcover/Data/training_patches_g0\": \"RUNNING\", \"geo-ai/Landcover/Data/training_patches_g1\": \"RUNNING\", \"geo-ai/Landcover/Data/training_patches_g2\": \"RUNNING\", \"geo-ai/Landcover/Data/test_patches_g0\": \"RUNNING\"}\n",
      "Temporal status:  {\"geo-ai/Landcover/Data/training_patches_g0\": \"RUNNING\", \"geo-ai/Landcover/Data/training_patches_g1\": \"RUNNING\", \"geo-ai/Landcover/Data/training_patches_g2\": \"RUNNING\", \"geo-ai/Landcover/Data/test_patches_g0\": \"RUNNING\"}\n",
      "Temporal status:  {\"geo-ai/Landcover/Data/training_patches_g0\": \"COMPLETED\", \"geo-ai/Landcover/Data/training_patches_g1\": \"RUNNING\", \"geo-ai/Landcover/Data/training_patches_g2\": \"COMPLETED\", \"geo-ai/Landcover/Data/test_patches_g0\": \"COMPLETED\"}\n",
      "Temporal status:  {\"geo-ai/Landcover/Data/training_patches_g0\": \"COMPLETED\", \"geo-ai/Landcover/Data/training_patches_g1\": \"COMPLETED\", \"geo-ai/Landcover/Data/training_patches_g2\": \"COMPLETED\", \"geo-ai/Landcover/Data/test_patches_g0\": \"COMPLETED\"}\n",
      "Final status: COMPLETED\n"
     ]
    }
   ],
   "source": [
    "data.export_TFRecords(sample_size = 2000, kernel_size = 128, scale=30, bucket='geo-ai', folder='Landcover/Data')"
   ]
  },
  {
   "cell_type": "code",
   "execution_count": null,
   "metadata": {},
   "outputs": [],
   "source": []
  }
 ],
 "metadata": {
  "kernelspec": {
   "display_name": "Python 3",
   "language": "python",
   "name": "python3"
  },
  "language_info": {
   "codemirror_mode": {
    "name": "ipython",
    "version": 3
   },
   "file_extension": ".py",
   "mimetype": "text/x-python",
   "name": "python",
   "nbconvert_exporter": "python",
   "pygments_lexer": "ipython3",
   "version": "3.7.9"
  }
 },
 "nbformat": 4,
 "nbformat_minor": 4
}
