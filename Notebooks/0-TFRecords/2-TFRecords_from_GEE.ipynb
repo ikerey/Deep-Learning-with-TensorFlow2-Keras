{
 "cells": [
  {
   "cell_type": "markdown",
   "metadata": {},
   "source": [
    "# Export TFRecords from Earth Engine\n",
    "\n",
    "## Table of Contents\n",
    "- ### [Python libraries](#libraries)\n",
    "- ### [Earth Engine data acquisition](#data)\n",
    "    - #### [**Impervious**](#impervious)\n",
    "        - ####  [Visualize the data](#visualize)\n",
    "        - ####  [Select the areas](#areas)\n",
    "        - #### [Export TFRecords to Google Cloud Store](#tfrecords)"
   ]
  },
  {
   "cell_type": "markdown",
   "metadata": {},
   "source": [
    "<a id='libraries'></a>\n",
    "## Python libraries\n",
    "We begin by importing a number of useful libraries"
   ]
  },
  {
   "cell_type": "code",
   "execution_count": 1,
   "metadata": {},
   "outputs": [
    {
     "name": "stdout",
     "output_type": "stream",
     "text": [
      "0.1.246\n"
     ]
    }
   ],
   "source": [
    "import ee\n",
    "import folium\n",
    "import numpy as np\n",
    "import pandas as pd\n",
    "import matplotlib.pyplot as plt\n",
    "print(ee.__version__)"
   ]
  },
  {
   "cell_type": "markdown",
   "metadata": {},
   "source": [
    "Initialize the Earth Engine client."
   ]
  },
  {
   "cell_type": "code",
   "execution_count": 2,
   "metadata": {},
   "outputs": [],
   "source": [
    "ee.Initialize()"
   ]
  },
  {
   "cell_type": "markdown",
   "metadata": {},
   "source": [
    "<a id='data'></a>\n",
    "## Earth Engine data acquisition"
   ]
  },
  {
   "cell_type": "markdown",
   "metadata": {},
   "source": [
    "<a id='impervious'></a>\n",
    "### **Impervious**\n",
    "\n",
    "Input images:\n",
    "- RGB ([B4,B3,B2]) bands of the [**USGS Landsat 8 Surface Reflectance Tier 1**](https://developers.google.com/earth-engine/datasets/catalog/LANDSAT_LC08_C01_T1_SR) dataset-\n",
    "\n",
    "Output image:\n",
    "- Impervious band of the [**NLCD: USGS National Land Cover Database**](https://developers.google.com/earth-engine/datasets/catalog/USGS_NLCD)."
   ]
  },
  {
   "cell_type": "markdown",
   "metadata": {},
   "source": [
    "<a id='visualize'></a>\n",
    "###  Visualize the data"
   ]
  },
  {
   "cell_type": "code",
   "execution_count": 3,
   "metadata": {},
   "outputs": [],
   "source": [
    "from preprocess.ee_data_preprocess import Preprocess"
   ]
  },
  {
   "cell_type": "code",
   "execution_count": 4,
   "metadata": {},
   "outputs": [],
   "source": [
    "data = Preprocess()"
   ]
  },
  {
   "cell_type": "code",
   "execution_count": 5,
   "metadata": {},
   "outputs": [
    {
     "data": {
      "text/html": [
       "<div style=\"width:100%;\"><div style=\"position:relative;width:100%;height:0;padding-bottom:60%;\"><iframe src=\"data:text/html;charset=utf-8;base64,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\" style=\"position:absolute;width:100%;height:100%;left:0;top:0;border:none !important;\" allowfullscreen webkitallowfullscreen mozallowfullscreen></iframe></div></div>"
      ],
      "text/plain": [
       "<folium.folium.Map at 0x11497ee10>"
      ]
     },
     "execution_count": 5,
     "metadata": {},
     "output_type": "execute_result"
    }
   ],
   "source": [
    "data.composite(slugs=['Landsat-8-Surface-Reflectance', 'USGS-National-Land-Cover-Database'],\\\n",
    "              init_date = '2016-01-01', end_date = '2016-12-31', lat=37.9563, lon=-121.2929, zoom=9)"
   ]
  },
  {
   "cell_type": "markdown",
   "metadata": {},
   "source": [
    "<a id='areas'></a>\n",
    "###  Select the areas\n",
    "We select the areas from which we will export the training, validation and testing data."
   ]
  },
  {
   "cell_type": "code",
   "execution_count": 6,
   "metadata": {},
   "outputs": [],
   "source": [
    "train_atts = {\"type\": \"FeatureCollection\", \"features\": [{\"type\": \"Feature\", \"properties\": {}, \"geometry\": {\"type\": \"Polygon\", \"coordinates\": [[[-105.380859375,39.38101803294523],[-104.5074462890625,39.38101803294523],[-104.5074462890625,40.027614437486655],[-105.380859375,40.027614437486655],[-105.380859375,39.38101803294523]]]}}, {\"type\": \"Feature\", \"properties\": {}, \"geometry\": {\"type\": \"Polygon\", \"coordinates\": [[[-121.67907714843751,38.33088431959971],[-121.01989746093749,38.33088431959971],[-121.01989746093749,38.87179021382536],[-121.67907714843751,38.87179021382536],[-121.67907714843751,38.33088431959971]]]}}, {\"type\": \"Feature\", \"properties\": {}, \"geometry\": {\"type\": \"Polygon\", \"coordinates\": [[[-84.74853515625,33.44977658311846],[-83.97125244140625,33.44977658311846],[-83.97125244140625,34.10043369975709],[-84.74853515625,34.10043369975709],[-84.74853515625,33.44977658311846]]]}}]}\n",
    "test_atts = {\"type\":\"FeatureCollection\",\"features\":[{\"type\":\"Feature\",\"properties\":{},\"geometry\":{\"type\":\"Polygon\",\"coordinates\":[[[-95.0537109375,38.66835610151506],[-94.1583251953125,38.66835610151506],[-94.1583251953125,39.46164364205549],[-95.0537109375,39.46164364205549],[-95.0537109375,38.66835610151506]]]}}]}"
   ]
  },
  {
   "cell_type": "code",
   "execution_count": 7,
   "metadata": {},
   "outputs": [
    {
     "name": "stdout",
     "output_type": "stream",
     "text": [
      "Number of training polygons: 3\n",
      "Number of test polygons: 1\n"
     ]
    },
    {
     "data": {
      "text/html": [
       "<div style=\"width:100%;\"><div style=\"position:relative;width:100%;height:0;padding-bottom:60%;\"><iframe src=\"data:text/html;charset=utf-8;base64,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\" style=\"position:absolute;width:100%;height:100%;left:0;top:0;border:none !important;\" allowfullscreen webkitallowfullscreen mozallowfullscreen></iframe></div></div>"
      ],
      "text/plain": [
       "<folium.folium.Map at 0x113ebf6d0>"
      ]
     },
     "execution_count": 7,
     "metadata": {},
     "output_type": "execute_result"
    }
   ],
   "source": [
    "data.select_areas(attributes=[train_atts, test_atts], zoom=5)"
   ]
  },
  {
   "cell_type": "markdown",
   "metadata": {},
   "source": [
    "<a id='tfrecords'></a>\n",
    "### Export TFRecords to Google Cloud Store"
   ]
  },
  {
   "cell_type": "code",
   "execution_count": 8,
   "metadata": {},
   "outputs": [
    {
     "name": "stdout",
     "output_type": "stream",
     "text": [
      "Exporting TFRecords to GCS:\n",
      "Temporal status:  {\"geo-ai/Impervious/Data/training_patches_g0\": \"READY\", \"geo-ai/Impervious/Data/training_patches_g1\": \"READY\", \"geo-ai/Impervious/Data/training_patches_g2\": \"READY\", \"geo-ai/Impervious/Data/test_patches_g0\": \"READY\"}\n",
      "Temporal status:  {\"geo-ai/Impervious/Data/training_patches_g0\": \"READY\", \"geo-ai/Impervious/Data/training_patches_g1\": \"READY\", \"geo-ai/Impervious/Data/training_patches_g2\": \"READY\", \"geo-ai/Impervious/Data/test_patches_g0\": \"READY\"}\n",
      "Temporal status:  {\"geo-ai/Impervious/Data/training_patches_g0\": \"READY\", \"geo-ai/Impervious/Data/training_patches_g1\": \"READY\", \"geo-ai/Impervious/Data/training_patches_g2\": \"RUNNING\", \"geo-ai/Impervious/Data/test_patches_g0\": \"RUNNING\"}\n",
      "Temporal status:  {\"geo-ai/Impervious/Data/training_patches_g0\": \"READY\", \"geo-ai/Impervious/Data/training_patches_g1\": \"RUNNING\", \"geo-ai/Impervious/Data/training_patches_g2\": \"RUNNING\", \"geo-ai/Impervious/Data/test_patches_g0\": \"RUNNING\"}\n",
      "Temporal status:  {\"geo-ai/Impervious/Data/training_patches_g0\": \"READY\", \"geo-ai/Impervious/Data/training_patches_g1\": \"RUNNING\", \"geo-ai/Impervious/Data/training_patches_g2\": \"RUNNING\", \"geo-ai/Impervious/Data/test_patches_g0\": \"COMPLETED\"}\n",
      "Temporal status:  {\"geo-ai/Impervious/Data/training_patches_g0\": \"READY\", \"geo-ai/Impervious/Data/training_patches_g1\": \"COMPLETED\", \"geo-ai/Impervious/Data/training_patches_g2\": \"COMPLETED\", \"geo-ai/Impervious/Data/test_patches_g0\": \"COMPLETED\"}\n",
      "Temporal status:  {\"geo-ai/Impervious/Data/training_patches_g0\": \"RUNNING\", \"geo-ai/Impervious/Data/training_patches_g1\": \"COMPLETED\", \"geo-ai/Impervious/Data/training_patches_g2\": \"COMPLETED\", \"geo-ai/Impervious/Data/test_patches_g0\": \"COMPLETED\"}\n",
      "Temporal status:  {\"geo-ai/Impervious/Data/training_patches_g0\": \"RUNNING\", \"geo-ai/Impervious/Data/training_patches_g1\": \"COMPLETED\", \"geo-ai/Impervious/Data/training_patches_g2\": \"COMPLETED\", \"geo-ai/Impervious/Data/test_patches_g0\": \"COMPLETED\"}\n",
      "Temporal status:  {\"geo-ai/Impervious/Data/training_patches_g0\": \"COMPLETED\", \"geo-ai/Impervious/Data/training_patches_g1\": \"COMPLETED\", \"geo-ai/Impervious/Data/training_patches_g2\": \"COMPLETED\", \"geo-ai/Impervious/Data/test_patches_g0\": \"COMPLETED\"}\n",
      "Final status: COMPLETED\n"
     ]
    }
   ],
   "source": [
    "data.export_TFRecords(sample_size = 2000, kernel_size = 128, scale=30, bucket='geo-ai', folder='Impervious/Data')"
   ]
  }
 ],
 "metadata": {
  "kernelspec": {
   "display_name": "Python 3",
   "language": "python",
   "name": "python3"
  },
  "language_info": {
   "codemirror_mode": {
    "name": "ipython",
    "version": 3
   },
   "file_extension": ".py",
   "mimetype": "text/x-python",
   "name": "python",
   "nbconvert_exporter": "python",
   "pygments_lexer": "ipython3",
   "version": "3.7.9"
  }
 },
 "nbformat": 4,
 "nbformat_minor": 4
}
