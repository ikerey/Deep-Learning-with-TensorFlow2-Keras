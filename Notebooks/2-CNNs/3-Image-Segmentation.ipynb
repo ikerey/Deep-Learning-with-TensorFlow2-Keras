{
 "cells": [
  {
   "cell_type": "markdown",
   "metadata": {},
   "source": [
    "# Convolutional Neural Networks for Image Segmentation\n",
    "\n",
    "**This notebook shows how to create a CNN model for image segmentation with TensorFlow 2 and Keras**\n",
    "\n",
    "## Table of Contents\n",
    "- ### [Python libraries](#libraries)"
   ]
  },
  {
   "cell_type": "code",
   "execution_count": null,
   "metadata": {},
   "outputs": [],
   "source": []
  }
 ],
 "metadata": {
  "kernelspec": {
   "display_name": "Python 3",
   "language": "python",
   "name": "python3"
  },
  "language_info": {
   "codemirror_mode": {
    "name": "ipython",
    "version": 3
   },
   "file_extension": ".py",
   "mimetype": "text/x-python",
   "name": "python",
   "nbconvert_exporter": "python",
   "pygments_lexer": "ipython3",
   "version": "3.7.9"
  }
 },
 "nbformat": 4,
 "nbformat_minor": 4
}
